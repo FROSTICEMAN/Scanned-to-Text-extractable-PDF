{
 "cells": [
  {
   "cell_type": "code",
   "execution_count": 11,
   "id": "ecc5b76f",
   "metadata": {},
   "outputs": [],
   "source": [
    "import pytesseract\n",
    "from pdf2image import convert_from_path\n",
    "import PyPDF2\n",
    "import io\n",
    "from pytesseract import image_to_string       \n",
    "from PIL import Image as img  \n",
    "import pytesseract \n",
    "import sys  \n",
    "import os  \n",
    "os.chdir(r'xxxxx') ### Directory"
   ]
  },
  {
   "cell_type": "code",
   "execution_count": 12,
   "id": "e4c77464",
   "metadata": {},
   "outputs": [],
   "source": [
    "poppler_path = r\"C:\\Users\"##Pre-installed##\n",
    "pytesseract.pytesseract.tesseract_cmd = r\"C:\\Users\" ##Pre-installed##\n",
    "PDF = r\"C:\\Users\\Catalyst.pdf\" ##insert your scaned PDF##"
   ]
  },
  {
   "cell_type": "code",
   "execution_count": 13,
   "id": "1831c77a",
   "metadata": {},
   "outputs": [],
   "source": [
    "images = convert_from_path(PDF, poppler_path=poppler_path)\n",
    "pdf_writer = PyPDF2.PdfFileWriter()\n",
    "for image in images:\n",
    "    page = pytesseract.image_to_pdf_or_hocr(image, extension='pdf')\n",
    "    pdf = PyPDF2.PdfFileReader(io.BytesIO(page))\n",
    "    pdf_writer.addPage(pdf.getPage(0))\n",
    "# export the searchable PDF to searchable.pdf\n",
    "with open(\"Catalyst\", \"wb\") as f:###NAME OF THE FILE##\n",
    "    pdf_writer.write(f)"
   ]
  },
  {
   "cell_type": "code",
   "execution_count": null,
   "id": "85d326a1",
   "metadata": {},
   "outputs": [],
   "source": []
  }
 ],
 "metadata": {
  "kernelspec": {
   "display_name": "Python 3 (ipykernel)",
   "language": "python",
   "name": "python3"
  },
  "language_info": {
   "codemirror_mode": {
    "name": "ipython",
    "version": 3
   },
   "file_extension": ".py",
   "mimetype": "text/x-python",
   "name": "python",
   "nbconvert_exporter": "python",
   "pygments_lexer": "ipython3",
   "version": "3.9.12"
  }
 },
 "nbformat": 4,
 "nbformat_minor": 5
}
